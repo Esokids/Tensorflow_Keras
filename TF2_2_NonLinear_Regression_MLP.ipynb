{
 "cells": [
  {
   "cell_type": "markdown",
   "metadata": {},
   "source": [
    "# Multi Layer Perceptron"
   ]
  },
  {
   "cell_type": "code",
   "execution_count": null,
   "metadata": {},
   "outputs": [],
   "source": [
    "import tensorflow as tf\n",
    "import numpy as np\n",
    "import matplotlib.pyplot as plt"
   ]
  },
  {
   "cell_type": "code",
   "execution_count": 5,
   "metadata": {},
   "outputs": [
    {
     "data": {
      "image/png": "[encoded data removed]",
      "text/plain": [
       "<Figure size 432x288 with 1 Axes>"
      ]
     },
     "metadata": {
      "needs_background": "light"
     },
     "output_type": "display_data"
    }
   ],
   "source": [
    "N = 100\n",
    "X = np.random.rand(N, 1) # 2 dimension tensor\n",
    "Y = np.sin(2 *np.pi * X) + 0.4 * np.random.rand(N, 1) # 2-d tensor\n",
    "plt.plot(X, Y, '.')\n",
    "plt.show()"
   ]
  },
  {
   "cell_type": "code",
   "execution_count": 19,
   "metadata": {},
   "outputs": [
    {
     "name": "stdout",
     "output_type": "stream",
     "text": [
      "460.2615937218323\n",
      "0.018317377151979432\n",
      "0.014783674066754723\n",
      "0.013713724370568234\n",
      "0.0130589363508373\n",
      "0.012644568004042542\n",
      "0.012328887880774598\n"
     ]
    }
   ],
   "source": [
    "# 1--W1--100--W2--100--W3--1\n",
    "# 1 input -- W1 -- 100 nodes -- W2 -- 100 nodes -- W3 -- output 1\n",
    "\n",
    "W1 = tf.Variable(np.random.randn(1, 100)) # 1 input -- 100 out\n",
    "b1 = tf.Variable(np.random.randn(100)) # bias 100 out\n",
    "W2 = tf.Variable(np.random.randn(100, 100)) # 100 input -- 100 out\n",
    "b2 = tf.Variable(np.random.randn(100)) # bias 100 out\n",
    "W3 = tf.Variable(np.random.randn(100, 1)) # 100 input -- 1 out\n",
    "b3 = tf.Variable(np.random.randn(1)) # bias 1 out\n",
    "\n",
    "def relu(x):\n",
    "    return tf.where(x >= 0, x, 0)\n",
    "\n",
    "lr = 0.0001\n",
    "for epoch in range(7000):\n",
    "    with tf.GradientTape() as t:\n",
    "        y = relu(X @ W1 + b1)\n",
    "        y = relu(y @ W2 + b2)\n",
    "        y = y @ W3 + b3\n",
    "        loss = tf.reduce_mean((y - Y)**2)\n",
    "    dw1, db1, dw2, db2, dw3, db3 = t.gradient(loss, [W1, b1, W2, b2, W3, b3])\n",
    "    W1.assign_sub(lr * dw1)\n",
    "    b1.assign_sub(lr * db1)\n",
    "    W2.assign_sub(lr * dw2)\n",
    "    b2.assign_sub(lr * db2)\n",
    "    W3.assign_sub(lr * dw3)\n",
    "    b3.assign_sub(lr * db3)\n",
    "    \n",
    "    if epoch % 1000 == 0:\n",
    "        print(loss.numpy())"
   ]
  },
  {
   "cell_type": "code",
   "execution_count": 20,
   "metadata": {},
   "outputs": [
    {
     "data": {
      "image/png": "[encoded data removed]",
      "text/plain": [
       "<Figure size 432x288 with 1 Axes>"
      ]
     },
     "metadata": {
      "needs_background": "light"
     },
     "output_type": "display_data"
    }
   ],
   "source": [
    "Z = relu(X @ W1 + b1)\n",
    "Z = relu(Z @ W2 + b2)\n",
    "Z = Z @ W3 + b3\n",
    "plt.plot(X, Y, '.')\n",
    "plt.plot(X, Z, '.r')\n",
    "plt.show()"
   ]
  },
  {
   "cell_type": "code",
   "execution_count": null,
   "metadata": {},
   "outputs": [],
   "source": []
  }
 ],
 "metadata": {
  "kernelspec": {
   "display_name": "Python 3",
   "language": "python",
   "name": "python3"
  },
  "language_info": {
   "codemirror_mode": {
    "name": "ipython",
    "version": 3
   },
   "file_extension": ".py",
   "mimetype": "text/x-python",
   "name": "python",
   "nbconvert_exporter": "python",
   "pygments_lexer": "ipython3",
   "version": "3.7.5"
  }
 },
 "nbformat": 4,
 "nbformat_minor": 4
}
