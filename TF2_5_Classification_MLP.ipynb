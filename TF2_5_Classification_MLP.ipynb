{
 "cells": [
  {
   "cell_type": "raw",
   "metadata": {},
   "source": [
    "# Multi Layer Perceptron"
   ]
  },
  {
   "cell_type": "code",
   "execution_count": 1,
   "metadata": {},
   "outputs": [],
   "source": [
    "import tensorflow as tf\n",
    "import numpy as np\n",
    "import matplotlib.pyplot as plt"
   ]
  },
  {
   "cell_type": "code",
   "execution_count": 6,
   "metadata": {},
   "outputs": [
    {
     "name": "stdout",
     "output_type": "stream",
     "text": [
      "[[0]\n",
      " [1]\n",
      " [1]\n",
      " [0]]\n"
     ]
    }
   ],
   "source": [
    "# XOR\n",
    "X = np.array([[0, 0], [0, 1], [1, 0], [-1, 1]])\n",
    "Y = np.array([[0, 1, 1, 0]]).T\n",
    "print(Y)"
   ]
  },
  {
   "cell_type": "code",
   "execution_count": 3,
   "metadata": {},
   "outputs": [],
   "source": [
    "def relu(x):\n",
    "    return tf.where(x >= 0, x, 0)\n",
    "\n",
    "class MLP():\n",
    "    def __init__(self, neurons=[1, 100, 100, 1], activation=[relu, relu, None]):\n",
    "        self.W = []\n",
    "        self.activation = activation\n",
    "        \n",
    "        for i in range(1, len(neurons)):\n",
    "            self.W.append(tf.Variable(np.random.randn(neurons[i-1], neurons[i]))) # W\n",
    "            self.W.append(tf.Variable(np.random.randn(neurons[i]))) #b\n",
    "\n",
    "    \n",
    "    def __call__(self, x):\n",
    "        for i in range(0, len(self.W), 2): # W and bias \n",
    "            x = x @ self.W[i] + self.W[i+1]\n",
    "            if self.activation[i // 2] is not None: # //2 beacuse step=2\n",
    "                x = self.activation[i // 2](x)\n",
    "        return x\n",
    "    \n",
    "    \n",
    "    def fit(self, X, Y, lr=0.0001, epochs=2000):\n",
    "        for epoch in range(epochs):\n",
    "            with tf.GradientTape() as t:\n",
    "                loss = tf.reduce_mean((self(X) - Y)**2)\n",
    "            dW = t.gradient(loss, self.W)\n",
    "\n",
    "            for i, W in enumerate(self.W):\n",
    "                W.assign_sub(lr * dW[i])\n",
    "\n",
    "            if epoch % 1000 == 0:\n",
    "                print(epoch, loss.numpy())"
   ]
  },
  {
   "cell_type": "code",
   "execution_count": 7,
   "metadata": {},
   "outputs": [
    {
     "name": "stdout",
     "output_type": "stream",
     "text": [
      "0 1054.376001183081\n",
      "1000 4.9698237028923744e-29\n"
     ]
    }
   ],
   "source": [
    "model = MLP(neurons=[2, 100, 100, 1], activation=[relu, relu, None])\n",
    "model.fit(X, Y, lr=0.0001)"
   ]
  },
  {
   "cell_type": "code",
   "execution_count": 9,
   "metadata": {},
   "outputs": [
    {
     "data": {
      "text/plain": [
       "array([[0.],\n",
       "       [1.],\n",
       "       [1.],\n",
       "       [0.]])"
      ]
     },
     "execution_count": 9,
     "metadata": {},
     "output_type": "execute_result"
    }
   ],
   "source": [
    "tf.round(model(X)).numpy()"
   ]
  },
  {
   "cell_type": "code",
   "execution_count": null,
   "metadata": {},
   "outputs": [],
   "source": []
  }
 ],
 "metadata": {
  "kernelspec": {
   "display_name": "Python 3",
   "language": "python",
   "name": "python3"
  },
  "language_info": {
   "codemirror_mode": {
    "name": "ipython",
    "version": 3
   },
   "file_extension": ".py",
   "mimetype": "text/x-python",
   "name": "python",
   "nbconvert_exporter": "python",
   "pygments_lexer": "ipython3",
   "version": "3.7.5"
  }
 },
 "nbformat": 4,
 "nbformat_minor": 4
}
