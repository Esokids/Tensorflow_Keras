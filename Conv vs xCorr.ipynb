{
 "cells": [
  {
   "cell_type": "markdown",
   "metadata": {},
   "source": [
    "# Convolution vs Cross-Correlation"
   ]
  },
  {
   "cell_type": "code",
   "execution_count": 1,
   "metadata": {},
   "outputs": [],
   "source": [
    "import tensorflow as tf\n",
    "import numpy as np\n",
    "import matplotlib.pyplot as plt\n",
    "from scipy.signal import correlate, correlate2d, convolve, convolve2d"
   ]
  },
  {
   "cell_type": "code",
   "execution_count": 2,
   "metadata": {},
   "outputs": [],
   "source": [
    "x = np.array([1, 2, 3, 4, 1, 2, 3, 4], np.float)\n",
    "kernel = np.array([1, 2, 3], np.float)"
   ]
  },
  {
   "cell_type": "code",
   "execution_count": 5,
   "metadata": {},
   "outputs": [
    {
     "data": {
      "text/plain": [
       "array([10., 16., 18., 16., 10., 16.])"
      ]
     },
     "execution_count": 5,
     "metadata": {},
     "output_type": "execute_result"
    }
   ],
   "source": [
    "convolve(x, kernel, 'valid')"
   ]
  },
  {
   "cell_type": "code",
   "execution_count": 7,
   "metadata": {},
   "outputs": [
    {
     "data": {
      "text/plain": [
       "(1, 8, 1)"
      ]
     },
     "execution_count": 7,
     "metadata": {},
     "output_type": "execute_result"
    }
   ],
   "source": [
    "x[None, :, None].shape\n",
    "# batch, signal dimention channel"
   ]
  },
  {
   "cell_type": "code",
   "execution_count": 9,
   "metadata": {},
   "outputs": [
    {
     "data": {
      "text/plain": [
       "(3, 1, 1)"
      ]
     },
     "execution_count": 9,
     "metadata": {},
     "output_type": "execute_result"
    }
   ],
   "source": [
    "kernel[:, None, None].shape\n",
    "# kernel size, channel input, channel output"
   ]
  },
  {
   "cell_type": "code",
   "execution_count": 19,
   "metadata": {},
   "outputs": [
    {
     "data": {
      "text/plain": [
       "array([14., 20., 14., 12., 14., 20.])"
      ]
     },
     "execution_count": 19,
     "metadata": {},
     "output_type": "execute_result"
    }
   ],
   "source": [
    "# input : 3d tensor\n",
    "tf.nn.conv1d(x[None, :, None], kernel[:, None, None], 1, 'VALID').numpy()[0, :, 0] "
   ]
  },
  {
   "cell_type": "code",
   "execution_count": 20,
   "metadata": {},
   "outputs": [
    {
     "data": {
      "text/plain": [
       "array([14., 20., 14., 12., 14., 20.])"
      ]
     },
     "execution_count": 20,
     "metadata": {},
     "output_type": "execute_result"
    }
   ],
   "source": [
    "correlate(x, kernel, 'valid')"
   ]
  },
  {
   "cell_type": "code",
   "execution_count": 23,
   "metadata": {},
   "outputs": [
    {
     "data": {
      "text/plain": [
       "array([14., 20., 14., 12., 14., 20.])"
      ]
     },
     "execution_count": 23,
     "metadata": {},
     "output_type": "execute_result"
    }
   ],
   "source": [
    "convolve(x, kernel[::-1], 'valid')"
   ]
  },
  {
   "cell_type": "code",
   "execution_count": 31,
   "metadata": {},
   "outputs": [
    {
     "name": "stdout",
     "output_type": "stream",
     "text": [
      "[[ 0.  1.  2.  3.]\n",
      " [ 4.  5.  6.  7.]\n",
      " [ 8.  9. 10. 11.]\n",
      " [12. 13. 14. 15.]]\n"
     ]
    }
   ],
   "source": [
    "x = np.arange(16).reshape((4, 4)).astype(np.float)\n",
    "print(x)"
   ]
  },
  {
   "cell_type": "code",
   "execution_count": 32,
   "metadata": {},
   "outputs": [
    {
     "name": "stdout",
     "output_type": "stream",
     "text": [
      "[[0. 1. 2.]\n",
      " [3. 4. 5.]\n",
      " [6. 7. 8.]]\n"
     ]
    }
   ],
   "source": [
    "kernel = np.arange(9).reshape((3, 3)).astype(np.float)\n",
    "print(kernel)"
   ]
  },
  {
   "cell_type": "code",
   "execution_count": 33,
   "metadata": {},
   "outputs": [
    {
     "data": {
      "text/plain": [
       "array([[102., 138.],\n",
       "       [246., 282.]])"
      ]
     },
     "execution_count": 33,
     "metadata": {},
     "output_type": "execute_result"
    }
   ],
   "source": [
    "convolve2d(x, kernel, 'valid')"
   ]
  },
  {
   "cell_type": "code",
   "execution_count": 61,
   "metadata": {},
   "outputs": [
    {
     "data": {
      "text/plain": [
       "array([[258., 294.],\n",
       "       [402., 438.]])"
      ]
     },
     "execution_count": 61,
     "metadata": {},
     "output_type": "execute_result"
    }
   ],
   "source": [
    "# 4d tensor input\n",
    "# input : batch, height, width, channel\n",
    "# kernel : height, width, channel input, channel output #2x2x1x1\n",
    "tf.nn.conv2d(x[None, :, :, None], kernel[:, :, None, None], 1, 'VALID').numpy()[0, :, :, 0]"
   ]
  },
  {
   "cell_type": "code",
   "execution_count": 62,
   "metadata": {},
   "outputs": [
    {
     "data": {
      "text/plain": [
       "array([[258., 294.],\n",
       "       [402., 438.]])"
      ]
     },
     "execution_count": 62,
     "metadata": {},
     "output_type": "execute_result"
    }
   ],
   "source": [
    "correlate2d(x, kernel, 'valid')"
   ]
  },
  {
   "cell_type": "code",
   "execution_count": 67,
   "metadata": {},
   "outputs": [
    {
     "data": {
      "text/plain": [
       "array([[102., 138.],\n",
       "       [246., 282.]])"
      ]
     },
     "execution_count": 67,
     "metadata": {},
     "output_type": "execute_result"
    }
   ],
   "source": [
    "correlate2d(x, kernel[::-1, ::-1], 'valid')"
   ]
  },
  {
   "cell_type": "code",
   "execution_count": 74,
   "metadata": {},
   "outputs": [
    {
     "name": "stdout",
     "output_type": "stream",
     "text": [
      "[[1. 2. 3.]\n",
      " [4. 5. 6.]\n",
      " [7. 8. 9.]]\n"
     ]
    }
   ],
   "source": [
    "kernel2 = np.arange(9, dtype=float).reshape((3,3)) + 1\n",
    "print(kernel2)"
   ]
  },
  {
   "cell_type": "code",
   "execution_count": 82,
   "metadata": {},
   "outputs": [
    {
     "data": {
      "text/plain": [
       "array([[0.0000e+00, 0.0000e+00, 1.0000e+00, 6.0000e+00, 1.8000e+01,\n",
       "        3.2000e+01, 3.3000e+01, 1.8000e+01],\n",
       "       [0.0000e+00, 7.0000e+00, 4.1000e+01, 1.2600e+02, 2.4000e+02,\n",
       "        3.0800e+02, 2.5300e+02, 1.2300e+02],\n",
       "       [1.2000e+01, 9.7000e+01, 3.6200e+02, 8.2200e+02, 1.2900e+03,\n",
       "        1.4300e+03, 1.0420e+03, 4.7100e+02],\n",
       "       [9.6000e+01, 5.1400e+02, 1.5700e+03, 3.0060e+03, 4.1400e+03,\n",
       "        4.1100e+03, 2.7460e+03, 1.1700e+03],\n",
       "       [3.6000e+02, 1.5320e+03, 4.0860e+03, 6.9660e+03, 8.7840e+03,\n",
       "        8.1020e+03, 5.0780e+03, 2.0640e+03],\n",
       "       [7.4400e+02, 2.8010e+03, 6.8500e+03, 1.0806e+04, 1.2786e+04,\n",
       "        1.1158e+04, 6.6620e+03, 2.6070e+03],\n",
       "       [8.7600e+02, 3.0590e+03, 7.0450e+03, 1.0614e+04, 1.2024e+04,\n",
       "        1.0120e+04, 5.7890e+03, 2.1870e+03],\n",
       "       [5.0400e+02, 1.7100e+03, 3.8410e+03, 5.6700e+03, 6.2940e+03,\n",
       "        5.2040e+03, 2.9130e+03, 1.0800e+03]])"
      ]
     },
     "execution_count": 82,
     "metadata": {},
     "output_type": "execute_result"
    }
   ],
   "source": [
    "temp = convolve2d(x, kernel, 'full')\n",
    "convolve2d(temp, kernel2, 'full')"
   ]
  },
  {
   "cell_type": "code",
   "execution_count": 83,
   "metadata": {},
   "outputs": [
    {
     "data": {
      "text/plain": [
       "array([[0.0000e+00, 0.0000e+00, 1.0000e+00, 6.0000e+00, 1.8000e+01,\n",
       "        3.2000e+01, 3.3000e+01, 1.8000e+01],\n",
       "       [0.0000e+00, 7.0000e+00, 4.1000e+01, 1.2600e+02, 2.4000e+02,\n",
       "        3.0800e+02, 2.5300e+02, 1.2300e+02],\n",
       "       [1.2000e+01, 9.7000e+01, 3.6200e+02, 8.2200e+02, 1.2900e+03,\n",
       "        1.4300e+03, 1.0420e+03, 4.7100e+02],\n",
       "       [9.6000e+01, 5.1400e+02, 1.5700e+03, 3.0060e+03, 4.1400e+03,\n",
       "        4.1100e+03, 2.7460e+03, 1.1700e+03],\n",
       "       [3.6000e+02, 1.5320e+03, 4.0860e+03, 6.9660e+03, 8.7840e+03,\n",
       "        8.1020e+03, 5.0780e+03, 2.0640e+03],\n",
       "       [7.4400e+02, 2.8010e+03, 6.8500e+03, 1.0806e+04, 1.2786e+04,\n",
       "        1.1158e+04, 6.6620e+03, 2.6070e+03],\n",
       "       [8.7600e+02, 3.0590e+03, 7.0450e+03, 1.0614e+04, 1.2024e+04,\n",
       "        1.0120e+04, 5.7890e+03, 2.1870e+03],\n",
       "       [5.0400e+02, 1.7100e+03, 3.8410e+03, 5.6700e+03, 6.2940e+03,\n",
       "        5.2040e+03, 2.9130e+03, 1.0800e+03]])"
      ]
     },
     "execution_count": 83,
     "metadata": {},
     "output_type": "execute_result"
    }
   ],
   "source": [
    "temp = convolve2d(kernel, kernel2, 'full')\n",
    "convolve2d(x, temp, 'full')"
   ]
  },
  {
   "cell_type": "code",
   "execution_count": 85,
   "metadata": {},
   "outputs": [
    {
     "data": {
      "text/plain": [
       "array([[    0.,    72.,   271.,   636.,   810.,   734.,   375.,   126.],\n",
       "       [  288.,   961.,  2075.,  3276.,  3516.,  2810.,  1351.,   429.],\n",
       "       [  948.,  2833.,  5582.,  7914.,  7914.,  5930.,  2734.,   831.],\n",
       "       [ 1896.,  5392., 10138., 13626., 13104.,  9474.,  4258.,  1260.],\n",
       "       [ 1800.,  4934.,  8910., 11610., 10764.,  7490.,  3206.,   894.],\n",
       "       [ 1104.,  2873.,  4870.,  6090.,  5298.,  3418.,  1298.,   303.],\n",
       "       [  372.,   917.,  1447.,  1740.,  1404.,   814.,   263.,    45.],\n",
       "       [   72.,   162.,   223.,   252.,   174.,    74.,    15.,     0.]])"
      ]
     },
     "execution_count": 85,
     "metadata": {},
     "output_type": "execute_result"
    }
   ],
   "source": [
    "temp = correlate2d(x, kernel, 'full')\n",
    "correlate2d(temp, kernel2, 'full')"
   ]
  },
  {
   "cell_type": "code",
   "execution_count": 84,
   "metadata": {},
   "outputs": [
    {
     "data": {
      "text/plain": [
       "array([[0.0000e+00, 8.0000e+00, 3.9000e+01, 1.1400e+02, 1.9000e+02,\n",
       "        2.1600e+02, 1.3500e+02, 5.4000e+01],\n",
       "       [3.2000e+01, 1.6900e+02, 4.9500e+02, 9.5400e+02, 1.2640e+03,\n",
       "        1.2200e+03, 6.9900e+02, 2.6100e+02],\n",
       "       [2.1200e+02, 8.4700e+02, 2.1180e+03, 3.5460e+03, 4.2460e+03,\n",
       "        3.7700e+03, 2.0460e+03, 7.2900e+02],\n",
       "       [7.0400e+02, 2.4380e+03, 5.5020e+03, 8.2740e+03, 9.1560e+03,\n",
       "        7.5860e+03, 3.9420e+03, 1.3500e+03],\n",
       "       [1.2400e+03, 3.9960e+03, 8.4900e+03, 1.2090e+04, 1.2736e+04,\n",
       "        1.0090e+04, 5.0340e+03, 1.6560e+03],\n",
       "       [1.3360e+03, 4.1270e+03, 8.4300e+03, 1.1610e+04, 1.1822e+04,\n",
       "        9.0820e+03, 4.3620e+03, 1.3770e+03],\n",
       "       [6.2800e+02, 1.8530e+03, 3.6030e+03, 4.7700e+03, 4.6160e+03,\n",
       "        3.3760e+03, 1.4670e+03, 4.0500e+02],\n",
       "       [1.6800e+02, 4.5800e+02, 8.0700e+02, 9.7800e+02, 8.2600e+02,\n",
       "        5.1600e+02, 1.3500e+02, 0.0000e+00]])"
      ]
     },
     "execution_count": 84,
     "metadata": {},
     "output_type": "execute_result"
    }
   ],
   "source": [
    "temp = correlate2d(kernel, kernel2, 'full')\n",
    "correlate2d(x, temp, 'full')"
   ]
  },
  {
   "cell_type": "code",
   "execution_count": 93,
   "metadata": {},
   "outputs": [
    {
     "data": {
      "image/png": "[encoded data removed]",
      "text/plain": [
       "<Figure size 432x288 with 1 Axes>"
      ]
     },
     "metadata": {
      "needs_background": "light"
     },
     "output_type": "display_data"
    }
   ],
   "source": [
    "T = np.array([[1, 1, 1],\n",
    "              [0 ,1, 0],\n",
    "              [0, 1, 0]], np.float)\n",
    "plt.imshow(T)\n",
    "plt.show()"
   ]
  },
  {
   "cell_type": "code",
   "execution_count": 87,
   "metadata": {},
   "outputs": [
    {
     "data": {
      "image/png": "[encoded data removed]",
      "text/plain": [
       "<Figure size 432x288 with 1 Axes>"
      ]
     },
     "metadata": {
      "needs_background": "light"
     },
     "output_type": "display_data"
    }
   ],
   "source": [
    "img = np.zeros((20, 20), np.float)\n",
    "img[3:6, 2:5] = T\n",
    "plt.imshow(img)\n",
    "plt.show()"
   ]
  },
  {
   "cell_type": "code",
   "execution_count": 88,
   "metadata": {},
   "outputs": [
    {
     "data": {
      "image/png": "[encoded data removed]",
      "text/plain": [
       "<Figure size 432x288 with 1 Axes>"
      ]
     },
     "metadata": {
      "needs_background": "light"
     },
     "output_type": "display_data"
    }
   ],
   "source": [
    "temp = convolve2d(img, T, 'same')\n",
    "plt.imshow(temp)\n",
    "plt.show()"
   ]
  },
  {
   "cell_type": "code",
   "execution_count": 89,
   "metadata": {},
   "outputs": [
    {
     "data": {
      "image/png": "[encoded data removed]",
      "text/plain": [
       "<Figure size 432x288 with 1 Axes>"
      ]
     },
     "metadata": {
      "needs_background": "light"
     },
     "output_type": "display_data"
    }
   ],
   "source": [
    "plt.imshow(temp == temp.max())\n",
    "plt.show()"
   ]
  },
  {
   "cell_type": "code",
   "execution_count": 90,
   "metadata": {},
   "outputs": [
    {
     "data": {
      "image/png": "[encoded data removed]",
      "text/plain": [
       "<Figure size 432x288 with 1 Axes>"
      ]
     },
     "metadata": {
      "needs_background": "light"
     },
     "output_type": "display_data"
    }
   ],
   "source": [
    "temp = correlate2d(img, T, 'same')\n",
    "plt.imshow(temp)\n",
    "plt.show()"
   ]
  },
  {
   "cell_type": "code",
   "execution_count": 91,
   "metadata": {},
   "outputs": [
    {
     "data": {
      "image/png": "[encoded data removed]",
      "text/plain": [
       "<Figure size 432x288 with 1 Axes>"
      ]
     },
     "metadata": {
      "needs_background": "light"
     },
     "output_type": "display_data"
    }
   ],
   "source": [
    "plt.imshow(temp == temp.max())\n",
    "plt.show()"
   ]
  },
  {
   "cell_type": "code",
   "execution_count": null,
   "metadata": {},
   "outputs": [],
   "source": []
  }
 ],
 "metadata": {
  "kernelspec": {
   "display_name": "Python 3",
   "language": "python",
   "name": "python3"
  },
  "language_info": {
   "codemirror_mode": {
    "name": "ipython",
    "version": 3
   },
   "file_extension": ".py",
   "mimetype": "text/x-python",
   "name": "python",
   "nbconvert_exporter": "python",
   "pygments_lexer": "ipython3",
   "version": "3.7.5"
  }
 },
 "nbformat": 4,
 "nbformat_minor": 4
}
