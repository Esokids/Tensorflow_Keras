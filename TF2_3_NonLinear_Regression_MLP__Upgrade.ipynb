{
 "cells": [
  {
   "cell_type": "markdown",
   "metadata": {},
   "source": [
    "# Multi Layer Perceptron"
   ]
  },
  {
   "cell_type": "code",
   "execution_count": 1,
   "metadata": {},
   "outputs": [],
   "source": [
    "import tensorflow as tf\n",
    "import numpy as np\n",
    "import matplotlib.pyplot as plt"
   ]
  },
  {
   "cell_type": "code",
   "execution_count": 2,
   "metadata": {},
   "outputs": [
    {
     "data": {
      "image/png": "[encoded data removed]",
      "text/plain": [
       "<Figure size 432x288 with 1 Axes>"
      ]
     },
     "metadata": {
      "needs_background": "light"
     },
     "output_type": "display_data"
    }
   ],
   "source": [
    "N = 100\n",
    "X = np.random.rand(N, 1) # 2 dimension tensor\n",
    "Y = np.sin(2 *np.pi * X) + 0.4 * np.random.rand(N, 1) # 2-d tensor\n",
    "plt.plot(X, Y, '.')\n",
    "plt.show()"
   ]
  },
  {
   "cell_type": "code",
   "execution_count": 18,
   "metadata": {},
   "outputs": [],
   "source": [
    "def relu(x):\n",
    "    return tf.where(x >= 0, x, 0)\n",
    "\n",
    "class MLP():\n",
    "    def __init__(self, neurons=[1, 100, 100, 1], activation=[relu, relu, None]):\n",
    "        self.W = []\n",
    "        self.activation = activation\n",
    "        \n",
    "        for i in range(1, len(neurons)):\n",
    "            self.W.append(tf.Variable(np.random.randn(neurons[i-1], neurons[i]))) # W\n",
    "            self.W.append(tf.Variable(np.random.randn(neurons[i]))) #b\n",
    "\n",
    "    def __call__(self, x):\n",
    "        for i in range(0, len(self.W), 2): # W and bias \n",
    "            x = x @ self.W[i] + self.W[i+1]\n",
    "            if self.activation[i // 2] is not None: # //2 beacuse step=2\n",
    "                x = self.activation[i // 2](x)\n",
    "        return x\n"
   ]
  },
  {
   "cell_type": "code",
   "execution_count": 19,
   "metadata": {},
   "outputs": [
    {
     "name": "stdout",
     "output_type": "stream",
     "text": [
      "8305.833999442479\n",
      "0.02806142577277027\n",
      "0.020705137398090625\n",
      "0.016956202487891182\n",
      "0.014608116888876747\n",
      "0.013379056246060634\n",
      "0.012726207529514654\n"
     ]
    }
   ],
   "source": [
    "lr = 0.0001\n",
    "model = MLP()\n",
    "\n",
    "for epoch in range(7000):\n",
    "    with tf.GradientTape() as t:\n",
    "        loss = tf.reduce_mean((model(X) - Y)**2)\n",
    "    dW = t.gradient(loss, model.W)\n",
    "    \n",
    "    for i, W in enumerate(model.W):\n",
    "        W.assign_sub(lr * dW[i])\n",
    "        \n",
    "    if epoch % 1000 == 0:\n",
    "        print(loss.numpy())\n"
   ]
  },
  {
   "cell_type": "code",
   "execution_count": 20,
   "metadata": {},
   "outputs": [
    {
     "data": {
      "image/png": "[encoded data removed]",
      "text/plain": [
       "<Figure size 432x288 with 1 Axes>"
      ]
     },
     "metadata": {
      "needs_background": "light"
     },
     "output_type": "display_data"
    }
   ],
   "source": [
    "Z = model(X)\n",
    "plt.plot(X, Y, '.')\n",
    "plt.plot(X, Z, '.r')\n",
    "plt.show()"
   ]
  },
  {
   "cell_type": "code",
   "execution_count": null,
   "metadata": {},
   "outputs": [],
   "source": []
  }
 ],
 "metadata": {
  "kernelspec": {
   "display_name": "Python 3",
   "language": "python",
   "name": "python3"
  },
  "language_info": {
   "codemirror_mode": {
    "name": "ipython",
    "version": 3
   },
   "file_extension": ".py",
   "mimetype": "text/x-python",
   "name": "python",
   "nbconvert_exporter": "python",
   "pygments_lexer": "ipython3",
   "version": "3.7.5"
  }
 },
 "nbformat": 4,
 "nbformat_minor": 4
}
